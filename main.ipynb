{
 "cells": [
  {
   "cell_type": "markdown",
   "metadata": {},
   "source": [
    "# Week 2 Part 1 - Network Analysis: Graph Theory, Definitions \n",
    "### Assignment3: Graph Visualization (DATA620)\n"
   ]
  },
  {
   "cell_type": "markdown",
   "metadata": {},
   "source": [
    "##### Authors: John Mazon, Leticia Cancel, Bharani Nittala \n"
   ]
  },
  {
   "cell_type": "markdown",
   "metadata": {},
   "source": [
    "# Import Libraries"
   ]
  },
  {
   "cell_type": "code",
   "execution_count": 36,
   "metadata": {},
   "outputs": [],
   "source": [
    "import networkx as nx\n",
    "import numpy as np\n",
    "import pylab as pl\n",
    "import scipy as sp\n",
    "import time\n",
    "import random\n",
    "import queue\n",
    "import pandas as pd\n",
    "from IPython.display import display\n",
    "from matplotlib import pyplot as plt\n",
    "%matplotlib inline\n",
    "\n",
    "#in this section we import the needed packages, among them \n",
    "#NetworkX which is a Python package for the creation, manipulation, and study of the structure, dynamics, and functions of complex networks.\n",
    "#NumPy is a Python library used for working with arrays.It also has functions for working in domain of linear algebra, fourier transform, and matrices.\n",
    "#Someone had the idea of combining both the PyPlot and NumPy namespaces into a single one (to avoid having to import two namespaces), the result is PyLab.\n",
    "#SciPy is a scientific computation library that uses NumPy underneath.SciPy stands for Scientific Python.It provides more utility functions for optimization, stats and signal processing.Like NumPy, SciPy is open source so we can use it freely.\n",
    "#import time is a module available in Python which provides functions for working with times, and for converting between representations. The function time.\n",
    "#import random imports the random module, which contains a variety of things to do with random number generation. Among these is the random() function, which generates random numbers between 0 and 1.\n",
    "#The Queue module provides a FIFO implementation suitable for multi-threaded programming. It can be used to pass messages or other data between producer and consumer threads safely. Locking is handled for the caller, so it is simple to have as many threads as you want working with the same Queue instance. A Queue’s size (number of elements) may be restricted to throttle memory usage or processing.\n",
    "#pandas is a popular Python-based data analysis toolkit which can be imported using import pandas as pd . It presents a diverse range of utilities, ranging from parsing multiple file formats to converting an entire data table into a NumPy matrix array.\n",
    "\n",
    "#display import Image from IPython\n",
    "#matplotlib. pyplot is a collection of functions that make matplotlib work like MATLAB. Each pyplot function makes some change to a figure: e.g., creates a figure, creates a plotting area in a figure, plots some lines in a plotting area, decorates the plot with labels, etc.\n"
   ]
  },
  {
   "cell_type": "markdown",
   "metadata": {},
   "source": [
    "# Read network from text file"
   ]
  },
  {
   "cell_type": "markdown",
   "metadata": {},
   "source": [
    "+ Location of data for draw graph\n"
   ]
  },
  {
   "cell_type": "markdown",
   "metadata": {},
   "source": [
    "We loaded a graph database of our choosing from source. We used a large network dataset from the web (such as from https://snap.stanford.edu/data/), \n",
    "we loaded just a small subset of the nodes and edges. \n"
   ]
  },
  {
   "cell_type": "code",
   "execution_count": 24,
   "metadata": {},
   "outputs": [],
   "source": [
    "#please note url used from https://snap.stanford.edu/data/com-Amazon.html\n",
    "#Networks with ground-truth communities\n",
    "\n",
    "#Name       \tType \t                    Nodes \t     Edges \t   Communities \t Description\n",
    "#com-Amazon \tUndirected, Communities \t334,863 \t925,872 \t75,149   \tAmazon product network\n",
    "\n",
    "    \n",
    "    \n",
    "#below we read in the data located on local pc to save in \"data_loc\""
   ]
  },
  {
   "cell_type": "code",
   "execution_count": 25,
   "metadata": {},
   "outputs": [],
   "source": [
    "data_loc=r'C:\\Users\\pc\\Desktop\\old desk\\Documents\\Data 620\\Assignment2\\\\'\n",
    "graph_file=data_loc+ 'com-amazon.ungraph.txt'\n",
    "com_file=data_loc+'com-amazon.all.dedup.cmty.txt'\n",
    "top_com_file=data_loc+'com-amazon.top5000.cmty.txt'\n",
    "\n"
   ]
  },
  {
   "cell_type": "markdown",
   "metadata": {},
   "source": [
    "Dataset information\n",
    "\n",
    "Network was collected by crawling Amazon website. It is based on Customers Who Bought This Item Also Bought feature of the Amazon website. If a product i is frequently co-purchased with product j, the graph contains an undirected edge from i to j. Each product category provided by Amazon defines each ground-truth community.\n",
    "\n",
    "We regard each connected component in a product category as a separate ground-truth community. We remove the ground-truth communities which have less than 3 nodes. We also provide the top 5,000 communities with highest quality which are described in our paper. As for the network, we provide the largest connected component. "
   ]
  },
  {
   "cell_type": "markdown",
   "metadata": {},
   "source": [
    "+ Load graph from text files"
   ]
  },
  {
   "cell_type": "code",
   "execution_count": 26,
   "metadata": {},
   "outputs": [],
   "source": [
    "g = nx.read_edgelist(graph_file)"
   ]
  },
  {
   "cell_type": "markdown",
   "metadata": {},
   "source": [
    "The multi-line adjacency list format is useful for graphs with nodes\n",
    "that can be meaningfully represented as strings.  With the edgelist\n",
    "format simple edge data can be stored but node or graph data is not.\n",
    "There is no way of representing isolated nodes unless the node has a\n",
    "self-loop edge."
   ]
  },
  {
   "cell_type": "markdown",
   "metadata": {},
   "source": [
    "# Analysis graph\n",
    "A network refers to a structure representing a group of objects/people and relationships between them. It is also known as a graph in mathematics. A network structure consists of nodes and edges. Here, nodes represent objects we are going to analyze while edges represent the relationships between those objects.\n"
   ]
  },
  {
   "cell_type": "code",
   "execution_count": 27,
   "metadata": {},
   "outputs": [
    {
     "name": "stdout",
     "output_type": "stream",
     "text": [
      "Number of nodes of the graph:  334863\n",
      "Number of edges of the graph:  925872\n",
      "Average degree :  2.7649277465709856\n"
     ]
    }
   ],
   "source": [
    "# find number of nodes and edges \n",
    "N,K=g.order(),g.size()\n",
    "avg_deg=K/N\n",
    "# Display number of nodes and edges\n",
    "print('Number of nodes of the graph: ',N)\n",
    "print('Number of edges of the graph: ',K)\n",
    "print('Average degree : ',avg_deg)\n",
    "\n"
   ]
  },
  {
   "cell_type": "code",
   "execution_count": 28,
   "metadata": {},
   "outputs": [
    {
     "name": "stdout",
     "output_type": "stream",
     "text": [
      "Network density:  1.6513834036534368e-05\n"
     ]
    }
   ],
   "source": [
    "# Density of graph\n",
    "#The density of a graph is a measure of how many ties between actors exist compared to how many ties between actors are possible.\n",
    "\n",
    "density=nx.density(g)\n",
    "print('Network density: ',density)"
   ]
  },
  {
   "cell_type": "code",
   "execution_count": 29,
   "metadata": {},
   "outputs": [
    {
     "name": "stdout",
     "output_type": "stream",
     "text": [
      "Triadic closure: 0.20522444916452579\n"
     ]
    }
   ],
   "source": [
    "# finding triadic closure\n",
    "#triadic Closure for a Graph is the tendency for nodes who has a common neighbour to have an edge between them. In case more edges are added in the Graph, these are the edges that tend to get formed\n",
    "\n",
    "triadic_closure = nx.transitivity(g)\n",
    "print(\"Triadic closure:\", triadic_closure)"
   ]
  },
  {
   "cell_type": "markdown",
   "metadata": {},
   "source": [
    "Triadic Closure for a Graph is the tendency for nodes who has a common neighbour to have an edge between them. In case more edges are added in the Graph, these are the edges that tend to get formed. For example in the following Graph"
   ]
  },
  {
   "cell_type": "code",
   "execution_count": 30,
   "metadata": {},
   "outputs": [
    {
     "name": "stdout",
     "output_type": "stream",
     "text": [
      "Top 20 nodes by degree:\n",
      "('99999', 4)\n",
      "('99998', 4)\n",
      "('99996', 2)\n",
      "('99995', 6)\n",
      "('99992', 3)\n",
      "('99991', 17)\n",
      "('99990', 2)\n",
      "('9999', 3)\n",
      "('99989', 4)\n",
      "('99988', 2)\n",
      "('99987', 7)\n",
      "('99985', 3)\n",
      "('99983', 7)\n",
      "('99982', 4)\n",
      "('99981', 5)\n",
      "('99980', 7)\n",
      "('99979', 25)\n",
      "('99976', 4)\n",
      "('99974', 1)\n",
      "('99973', 4)\n"
     ]
    }
   ],
   "source": [
    "# degree of graph\n",
    "\n",
    "#Dictionaries are used to store data values in key:value pairs.A dictionary is a collection which is ordered*, changeable and does not allow duplicates.\n",
    "#A DegreeView for the Graph as G.degree or G.degree().The node degree is the number of edges adjacent to the node. The weighted node degree is the sum of the edge weights for edges incident to that node.This object provides an iterator for (node, degree) as well as lookup for the degree for a single node.\n",
    "degree_dict = dict(g.degree(g.nodes()))\n",
    "nx.set_node_attributes(g, degree_dict, 'degree')\n",
    "degrees_vals = sorted(degree_dict.items(),reverse=True)\n",
    "print(\"Top 20 nodes by degree:\")\n",
    "for d in degrees_vals[:20]:\n",
    "    print(d)\n",
    "# plot histogram"
   ]
  },
  {
   "cell_type": "code",
   "execution_count": 31,
   "metadata": {},
   "outputs": [
    {
     "name": "stdout",
     "output_type": "stream",
     "text": [
      "<class 'dict'>\n",
      "0.3967463932787655\n"
     ]
    }
   ],
   "source": [
    "# Clustering coefficient\n",
    "clust_coefficients = nx.clustering(g)\n",
    "print(type(clust_coefficients))\n",
    "avg_clust = sum(clust_coefficients.values()) / len(clust_coefficients)\n",
    "print(avg_clust)"
   ]
  },
  {
   "cell_type": "markdown",
   "metadata": {},
   "source": [
    "Local Clustering Coefficient of a node in a Graph is the fraction of pairs of the node’s neighbours that are adjacent to each other."
   ]
  },
  {
   "cell_type": "code",
   "execution_count": 32,
   "metadata": {},
   "outputs": [],
   "source": [
    "# function for get subgraph\n",
    "def get_subgraph_bfs(graph, start_node, num_node):\n",
    "    node_set = set()\n",
    "    probbed = {start_node}\n",
    "    bfs_queue = queue.deque()\n",
    "    bfs_queue.append(start_node)\n",
    "    while len(bfs_queue) > 0:\n",
    "        i = bfs_queue.popleft()\n",
    "        node_set.add(i)\n",
    "        for j in g[i]:\n",
    "            if j not in probbed:\n",
    "                probbed.add(j)\n",
    "                bfs_queue.append(j)\n",
    "        if len(node_set) >= num_node:\n",
    "            return nx.subgraph(graph, node_set)"
   ]
  },
  {
   "cell_type": "code",
   "execution_count": 33,
   "metadata": {},
   "outputs": [
    {
     "data": {
      "image/png": "[encoded data removed]",
      "text/plain": [
       "<Figure size 432x288 with 1 Axes>"
      ]
     },
     "metadata": {},
     "output_type": "display_data"
    }
   ],
   "source": [
    "# get subgraph with 50 nodes\n",
    "subgraph = get_subgraph_bfs(g, '1', 50)\n",
    "# draw subgraph\n",
    "\n",
    "nx.draw(subgraph)\n",
    "plt.savefig(\"subgraph.png\")"
   ]
  },
  {
   "cell_type": "code",
   "execution_count": 34,
   "metadata": {},
   "outputs": [
    {
     "name": "stdout",
     "output_type": "stream",
     "text": [
      "Diameter of the subgraph:  4\n"
     ]
    }
   ],
   "source": [
    "# get diameter of subpgrah\n",
    "d=nx.diameter(subgraph)\n",
    "print('Diameter of the subgraph: ',d)"
   ]
  },
  {
   "cell_type": "markdown",
   "metadata": {},
   "source": [
    "Source (citation)\n",
    "\n",
    "    J. Yang and J. Leskovec. Defining and Evaluating Network Communities based on Ground-truth. ICDM, 2012."
   ]
  },
  {
   "cell_type": "markdown",
   "metadata": {},
   "source": [
    "\n",
    "\n"
   ]
  }
 ],
 "metadata": {
  "kernelspec": {
   "display_name": "Python 3",
   "language": "python",
   "name": "python3"
  },
  "language_info": {
   "codemirror_mode": {
    "name": "ipython",
    "version": 3
   },
   "file_extension": ".py",
   "mimetype": "text/x-python",
   "name": "python",
   "nbconvert_exporter": "python",
   "pygments_lexer": "ipython3",
   "version": "3.8.8"
  }
 },
 "nbformat": 4,
 "nbformat_minor": 4
}
