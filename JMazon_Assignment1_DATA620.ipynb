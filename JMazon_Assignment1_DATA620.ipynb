{
 "cells": [
  {
   "cell_type": "markdown",
   "id": "bedf52d6",
   "metadata": {},
   "source": [
    "# Assignment 1:  “hello, graph world”\n"
   ]
  },
  {
   "cell_type": "markdown",
   "id": "cd020b62",
   "metadata": {},
   "source": [
    "**Name** : John Mazon\n",
    "\n",
    "**Class**: DATA620\n",
    "\n",
    "**Date** : 6/6/21"
   ]
  },
  {
   "cell_type": "markdown",
   "id": "47333780",
   "metadata": {},
   "source": [
    "**Description**\n",
    "\n",
    "When software developers are starting to work in a new environment, they are encouraged to start with a simple “beachhead” program.In this assignment, you’re asked to create the nodes and edges for a basic graph, such as the Krackhardt kite shown below.  (You’re welcome to substitute data of your own choosing).\n",
    "\n",
    "You may use a package of your own choosing, such as iGraph or NetworkX, or  ...?  Your code should be delivered in an IPython notebook, and placed into GitHub.  In your assignment link, please provide a link to your GitHub repository.\n"
   ]
  },
  {
   "cell_type": "code",
   "execution_count": 142,
   "id": "2a0fc613",
   "metadata": {},
   "outputs": [],
   "source": [
    "import networkx as nx\n",
    "\n"
   ]
  },
  {
   "cell_type": "code",
   "execution_count": 143,
   "id": "e80c3260",
   "metadata": {},
   "outputs": [],
   "source": [
    "import matplotlib.pyplot as plt"
   ]
  },
  {
   "cell_type": "code",
   "execution_count": 144,
   "id": "67f1be41",
   "metadata": {},
   "outputs": [],
   "source": [
    "%matplotlib inline"
   ]
  },
  {
   "cell_type": "code",
   "execution_count": 145,
   "id": "15ba4aea",
   "metadata": {},
   "outputs": [],
   "source": [
    "# initiliaze the graph\n",
    "X = nx.Graph()"
   ]
  },
  {
   "cell_type": "code",
   "execution_count": 146,
   "id": "bc08eebf",
   "metadata": {},
   "outputs": [],
   "source": [
    "x = nx.generators.small.krackhardt_kite_graph()"
   ]
  },
  {
   "cell_type": "code",
   "execution_count": 147,
   "id": "e403fd38",
   "metadata": {},
   "outputs": [
    {
     "name": "stdout",
     "output_type": "stream",
     "text": [
      "Nodes from krackhardt_kite_graph:  \n",
      " [0, 1, 2, 3, 4, 5, 6, 7, 8, 9] \n",
      "\n",
      "Edges from krackhardt_kite_graph:  \n",
      " [(0, 1), (0, 2), (0, 3), (0, 5), (1, 3), (1, 4), (1, 6), (2, 3), (2, 5), (3, 4), (3, 5), (3, 6), (4, 6), (5, 6), (5, 7), (6, 7), (7, 8), (8, 9)]\n"
     ]
    }
   ],
   "source": [
    "print(\"Nodes from krackhardt_kite_graph: \",\"\\n\",x.nodes(),\"\\n\")\n",
    "\n",
    "\n",
    "print(\"Edges from krackhardt_kite_graph: \",\"\\n\",x.edges())"
   ]
  },
  {
   "cell_type": "code",
   "execution_count": 148,
   "id": "8c398750",
   "metadata": {},
   "outputs": [
    {
     "data": {
      "text/plain": [
       "18"
      ]
     },
     "execution_count": 148,
     "metadata": {},
     "output_type": "execute_result"
    }
   ],
   "source": [
    "#Number of Edges in this network is:\n",
    "x.number_of_edges()"
   ]
  },
  {
   "cell_type": "code",
   "execution_count": 149,
   "id": "6b4899f2",
   "metadata": {},
   "outputs": [
    {
     "data": {
      "text/plain": [
       "10"
      ]
     },
     "execution_count": 149,
     "metadata": {},
     "output_type": "execute_result"
    }
   ],
   "source": [
    "#Number of nodes in this network is:\n",
    "x.number_of_nodes()"
   ]
  },
  {
   "cell_type": "code",
   "execution_count": 150,
   "id": "c0aafa82",
   "metadata": {},
   "outputs": [],
   "source": [
    "#Here we will be drawing the network now with the provided info. We notice that label is present on the nodes which is a number we have in edges: nx: is our alias for networkx package which we imported. Notice .draw is used to draw our network. Also .plt which is alias from matplotlib depicts the graph inline  \n",
    "\n"
   ]
  },
  {
   "cell_type": "code",
   "execution_count": 151,
   "id": "2fccd67e",
   "metadata": {},
   "outputs": [
    {
     "data": {
      "image/png": "[encoded data removed]",
      "text/plain": [
       "<Figure size 432x288 with 1 Axes>"
      ]
     },
     "metadata": {},
     "output_type": "display_data"
    }
   ],
   "source": [
    "nx.draw(x, with_labels=1)\n",
    "plt.show()"
   ]
  },
  {
   "cell_type": "code",
   "execution_count": 152,
   "id": "39a6f247",
   "metadata": {},
   "outputs": [],
   "source": [
    "# Here we add the name to the nodes and display the network\n",
    "# First we create an object to hold all the nodes and corresponding name\n",
    "# Please note alphabetical order\n",
    "# outuput is object with all names"
   ]
  },
  {
   "cell_type": "code",
   "execution_count": 153,
   "id": "ff12fbdb",
   "metadata": {},
   "outputs": [
    {
     "data": {
      "text/plain": [
       "{2: 'Carol',\n",
       " 5: 'Fernando',\n",
       " 7: 'Heather',\n",
       " 8: 'Ike',\n",
       " 9: 'Jane',\n",
       " 6: 'Garth',\n",
       " 4: 'Ed',\n",
       " 1: 'Beverly',\n",
       " 3: 'Diane',\n",
       " 0: 'Andre'}"
      ]
     },
     "execution_count": 153,
     "metadata": {},
     "output_type": "execute_result"
    }
   ],
   "source": [
    "people = {2:\"Carol\",5:\"Fernando\",7:\"Heather\",8:\"Ike\",9:\"Jane\",6:\"Garth\",4:\"Ed\",1:\"Beverly\",3:\"Diane\",0:\"Andre\"}\n",
    "people"
   ]
  },
  {
   "cell_type": "code",
   "execution_count": 154,
   "id": "a6ae950f",
   "metadata": {},
   "outputs": [],
   "source": [
    "# here we create the Graph\n",
    "X1 = nx.Graph()"
   ]
  },
  {
   "cell_type": "code",
   "execution_count": 155,
   "id": "a3c8ea1b",
   "metadata": {},
   "outputs": [],
   "source": [
    "# this is to create the edges from graph"
   ]
  },
  {
   "cell_type": "code",
   "execution_count": 156,
   "id": "2e7d76a9",
   "metadata": {},
   "outputs": [],
   "source": [
    "f1 = [(0,1),(0,2),(0,3),(0,4),(0,5),(1,3),(1,4),(1,6),(2,3),(2,5),(3,4),(3,5),(3,6),(4,6),(5,6),(5,7),(6,7),(7,8),(8,9)]"
   ]
  },
  {
   "cell_type": "code",
   "execution_count": 157,
   "id": "214026ee",
   "metadata": {},
   "outputs": [],
   "source": [
    "g1 = x.edges()"
   ]
  },
  {
   "cell_type": "code",
   "execution_count": 158,
   "id": "ace5f278",
   "metadata": {},
   "outputs": [],
   "source": [
    "# this is in order to add all the edges to object\n",
    "X1.add_edges_from(g1)"
   ]
  },
  {
   "cell_type": "code",
   "execution_count": 159,
   "id": "24412437",
   "metadata": {},
   "outputs": [
    {
     "name": "stdout",
     "output_type": "stream",
     "text": [
      "Current Edges for Named Network: \n",
      " [(0, 1), (0, 2), (0, 3), (0, 5), (1, 3), (1, 4), (1, 6), (2, 3), (2, 5), (3, 4), (3, 5), (3, 6), (5, 6), (5, 7), (4, 6), (6, 7), (7, 8), (8, 9)]\n"
     ]
    }
   ],
   "source": [
    "print(\"Current Edges for Named Network:\", \"\\n\",X1.edges())"
   ]
  },
  {
   "cell_type": "code",
   "execution_count": 160,
   "id": "01a6c184",
   "metadata": {},
   "outputs": [],
   "source": [
    "# below we will demonstrate to use relabel_nodes to pass our graph object with name object"
   ]
  },
  {
   "cell_type": "code",
   "execution_count": 161,
   "id": "9adb1a55",
   "metadata": {},
   "outputs": [],
   "source": [
    "N=nx.relabel_nodes(X1,people)"
   ]
  },
  {
   "cell_type": "code",
   "execution_count": 162,
   "id": "615aa8e3",
   "metadata": {},
   "outputs": [
    {
     "name": "stdout",
     "output_type": "stream",
     "text": [
      "------------------------------------------------------\n",
      "\n",
      "Nodes for Named network:  \n",
      " ['Andre', 'Beverly', 'Carol', 'Diane', 'Fernando', 'Ed', 'Garth', 'Heather', 'Ike', 'Jane']\n",
      "------------------------------------------------------\n",
      "\n",
      "Edges for Named network:  \n",
      " [('Andre', 'Beverly'), ('Andre', 'Carol'), ('Andre', 'Diane'), ('Andre', 'Fernando'), ('Beverly', 'Diane'), ('Beverly', 'Ed'), ('Beverly', 'Garth'), ('Carol', 'Diane'), ('Carol', 'Fernando'), ('Diane', 'Ed'), ('Diane', 'Fernando'), ('Diane', 'Garth'), ('Fernando', 'Garth'), ('Fernando', 'Heather'), ('Ed', 'Garth'), ('Garth', 'Heather'), ('Heather', 'Ike'), ('Ike', 'Jane')]\n",
      "------------------------------------------------------\n",
      "\n"
     ]
    }
   ],
   "source": [
    "print(\"------------------------------------------------------\\n\")\n",
    "print(\"Nodes for Named network: \", \"\\n\",N.nodes())\n",
    "print(\"------------------------------------------------------\\n\")\n",
    "print(\"Edges for Named network: \", \"\\n\",N.edges())\n",
    "print(\"------------------------------------------------------\\n\")"
   ]
  },
  {
   "cell_type": "code",
   "execution_count": 163,
   "id": "9650da74",
   "metadata": {},
   "outputs": [
    {
     "data": {
      "image/png": "[encoded data removed]",
      "text/plain": [
       "<Figure size 432x288 with 1 Axes>"
      ]
     },
     "metadata": {},
     "output_type": "display_data"
    }
   ],
   "source": [
    "nx.draw(N, with_labels=1)\n",
    "plt.show()"
   ]
  },
  {
   "cell_type": "markdown",
   "id": "5d07c1e2",
   "metadata": {},
   "source": [
    "**Conclusion**\n",
    "\n",
    "\n"
   ]
  },
  {
   "cell_type": "code",
   "execution_count": null,
   "id": "2cfb7e2d",
   "metadata": {},
   "outputs": [],
   "source": []
  }
 ],
 "metadata": {
  "kernelspec": {
   "display_name": "Python 3",
   "language": "python",
   "name": "python3"
  },
  "language_info": {
   "codemirror_mode": {
    "name": "ipython",
    "version": 3
   },
   "file_extension": ".py",
   "mimetype": "text/x-python",
   "name": "python",
   "nbconvert_exporter": "python",
   "pygments_lexer": "ipython3",
   "version": "3.8.8"
  }
 },
 "nbformat": 4,
 "nbformat_minor": 5
}
